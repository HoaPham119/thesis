{
 "cells": [
  {
   "cell_type": "code",
   "execution_count": 1,
   "metadata": {},
   "outputs": [],
   "source": [
    "import warnings\n",
    "warnings.filterwarnings(\"ignore\")"
   ]
  },
  {
   "cell_type": "code",
   "execution_count": 2,
   "metadata": {},
   "outputs": [],
   "source": [
    "import pandas as pd\n",
    "import numpy as np\n",
    "import matplotlib.pyplot as plt\n",
    "import os\n",
    "from func import calc_vpin, imbalance\n",
    "from data_load import load_data\n",
    "from data_processing import transform_buy_sell_volume"
   ]
  },
  {
   "cell_type": "code",
   "execution_count": 3,
   "metadata": {},
   "outputs": [],
   "source": [
    "from sklearn.ensemble import RandomForestClassifier, AdaBoostClassifier\n",
    "from sklearn.neural_network import MLPClassifier\n",
    "from sklearn.neighbors import KNeighborsClassifier\n",
    "from sklearn.svm import SVC\n",
    "from sklearn.gaussian_process import GaussianProcessClassifier\n",
    "from sklearn.gaussian_process.kernels import RBF\n",
    "from sklearn.tree import DecisionTreeClassifier\n",
    "from sklearn.ensemble import RandomForestClassifier, AdaBoostClassifier\n",
    "from sklearn.naive_bayes import GaussianNB\n",
    "from sklearn.discriminant_analysis import QuadraticDiscriminantAnalysis\n",
    "from sklearn.metrics import accuracy_score\n",
    "import gc\n",
    "from sklearn.metrics import classification_report\n",
    "from scipy.stats.stats import pearsonr"
   ]
  },
  {
   "cell_type": "code",
   "execution_count": 4,
   "metadata": {},
   "outputs": [
    {
     "name": "stdout",
     "output_type": "stream",
     "text": [
      "Thư mục 'req_files' đã tồn tại.\n"
     ]
    }
   ],
   "source": [
    "# Đường dẫn tới thư mục cần kiểm tra\n",
    "folder_path = \"req_files\"\n",
    "# Kiểm tra nếu thư mục chưa tồn tại thì tạo mới\n",
    "if not os.path.exists(folder_path):\n",
    "    os.makedirs(folder_path)\n",
    "    print(f\"Đã tạo thư mục: {folder_path}\")\n",
    "else:\n",
    "    print(f\"Thư mục '{folder_path}' đã tồn tại.\")"
   ]
  },
  {
   "cell_type": "code",
   "execution_count": 5,
   "metadata": {},
   "outputs": [],
   "source": [
    "df={}; sec_trades = {}\n",
    "sym = ['STB', 'SAB','MWG', 'VCB','TCB']"
   ]
  },
  {
   "cell_type": "code",
   "execution_count": 6,
   "metadata": {},
   "outputs": [],
   "source": [
    "## Load data\n",
    "data_tick = load_data(folder=\"tick\")\n",
    "data_orderbook = load_data(folder=\"orderbook\")"
   ]
  },
  {
   "cell_type": "code",
   "execution_count": 7,
   "metadata": {},
   "outputs": [],
   "source": [
    "# Transform data\n",
    "for s in sym:\n",
    "    data = data_tick[s].copy()\n",
    "    data.rename(columns = {\"Gia KL\": \"PRICE\", \"KL\": \"SIZE\"}, inplace = True)\n",
    "    data.set_index(\"Date\", inplace = True)\n",
    "    data = data.resample(\"T\").agg({\n",
    "            'SIZE': 'sum',  # Cột volume tính tổng\n",
    "            'PRICE': 'mean'    # Cột price tính trung bình\n",
    "        })\n",
    "    # data.to_csv(f\"req_files/{s}price.csv\")\n",
    "    sec_trades[s] = data"
   ]
  },
  {
   "cell_type": "code",
   "execution_count": 8,
   "metadata": {},
   "outputs": [
    {
     "data": {
      "text/plain": [
       "{'STB': 5324, 'SAB': 197, 'MWG': 2364, 'VCB': 490, 'TCB': 5012}"
      ]
     },
     "execution_count": 8,
     "metadata": {},
     "output_type": "execute_result"
    }
   ],
   "source": [
    "# Set volume\n",
    "volume = {}\n",
    "for key, val in sec_trades.items():\n",
    "    volume[key] = int(val['SIZE'].resample(\"D\").sum().mean()/50) # Sum của từng ngày, rồi lấy mean, rồi chia 50\n",
    "volume\n"
   ]
  },
  {
   "cell_type": "markdown",
   "metadata": {},
   "source": [
    "$$\n",
    "V_{\\tau}^B = \\sum_{i = t(\\tau - 1) + 1}^{t(\\tau)} V_i \\cdot Z\\left(\\frac{P_i - P_{i-1}}{\\sigma_{\\Delta P}}\\right)\n",
    "$$\n",
    "\n",
    "$$\n",
    "V_{\\tau}^S = \\sum_{i = t(\\tau - 1) + 1}^{t(\\tau)} V_i \\cdot \\left[ 1 - Z\\left(\\frac{P_i - P_{i-1}}{\\sigma_{\\Delta P}}\\right) \\right] = V - V_{\\tau}^B\n",
    "$$"
   ]
  },
  {
   "cell_type": "markdown",
   "metadata": {},
   "source": [
    "$$\n",
    "VPIN = \\frac{\\alpha \\mu}{\\alpha \\mu + 2\\varepsilon} \\approx \\frac{\\sum_{\\tau=1}^n \\left| V_{\\tau}^S - V_{\\tau}^B \\right|}{nV}.\n",
    "$$\n"
   ]
  },
  {
   "cell_type": "code",
   "execution_count": 9,
   "metadata": {},
   "outputs": [
    {
     "name": "stdout",
     "output_type": "stream",
     "text": [
      "Calculating VPIN\n",
      "STB (2700, 4)\n",
      "Calculating VPIN\n",
      "SAB (2709, 4)\n",
      "Calculating VPIN\n",
      "MWG (2700, 4)\n",
      "Calculating VPIN\n",
      "VCB (2700, 4)\n",
      "Calculating VPIN\n",
      "TCB (2700, 4)\n"
     ]
    }
   ],
   "source": [
    "# Cal vpin\n",
    "for s in sym:\n",
    "    print('Calculating VPIN')\n",
    "    df[s] = calc_vpin(sec_trades[s],volume[s],50)\n",
    "    df[s].to_csv(f\"req_files/{s}VPIN.csv\",index = True)\n",
    "    print(s+' '+str(df[s].shape))"
   ]
  },
  {
   "cell_type": "code",
   "execution_count": 10,
   "metadata": {},
   "outputs": [
    {
     "name": "stdout",
     "output_type": "stream",
     "text": [
      "(0, 0)\n",
      "(2032, 1)\n",
      "(2995, 2)\n",
      "(4106, 3)\n",
      "(4784, 4)\n"
     ]
    }
   ],
   "source": [
    "\n",
    "## Tạo avg df, với từng cột chứa phân vị (giá trị từ 0 đến 1) của các giá trị trong cột VPIN của từng stock\n",
    "metric = 'CDF'\n",
    "avg = pd.DataFrame()\n",
    "for stock, frame in df.items():\n",
    "    print(avg.shape)\n",
    "    frame_cleaned = frame[[metric]].reset_index().drop_duplicates('Time', keep='last').set_index('Time')\n",
    "    avg = avg.join(frame_cleaned.rename(columns={metric: f'{metric}_{stock}'}), how='outer')\n",
    "\n",
    "avg = avg.dropna(how='all').ffill()\n",
    "avg.to_csv('req_files/CDF.csv')\n"
   ]
  },
  {
   "cell_type": "code",
   "execution_count": 11,
   "metadata": {},
   "outputs": [
    {
     "data": {
      "text/plain": [
       "['CDF_STB', 'CDF_SAB', 'CDF_MWG', 'CDF_VCB', 'CDF_TCB', 'Time']"
      ]
     },
     "execution_count": 11,
     "metadata": {},
     "output_type": "execute_result"
    }
   ],
   "source": [
    "# Tạo fields tổng quát hơn\n",
    "fields = list(avg.columns)\n",
    "fields.append(\"Time\")\n",
    "fields"
   ]
  },
  {
   "cell_type": "markdown",
   "metadata": {},
   "source": [
    "### Mean Correlation at time\n",
    "$$\n",
    "\\text{Mean Correlation at time } t = \\frac{\\sum_{i=1}^{n} \\sum_{j=1}^{n} r_{ij}(t)}{n^2}\n",
    "$$\n"
   ]
  },
  {
   "cell_type": "code",
   "execution_count": 12,
   "metadata": {},
   "outputs": [],
   "source": [
    "df = pd.read_csv('req_files/CDF.csv',parse_dates=['Time'],index_col=[0],usecols = fields)\n",
    "rolling_pariwise_corr = df.rolling(window=50).corr()\n",
    "\n",
    "thres = pd.DataFrame()\n",
    "thres['AvgCorrAssets'] = rolling_pariwise_corr.groupby(by=['Time']).sum().sum(axis=1)/((len(fields)-1)**2)\n",
    "thres.to_csv('req_files/AvgCorrAssets.csv')"
   ]
  },
  {
   "cell_type": "code",
   "execution_count": 13,
   "metadata": {},
   "outputs": [],
   "source": [
    "STB = transform_buy_sell_volume(data_dict=data_orderbook, key1 = \"STB\")"
   ]
  },
  {
   "cell_type": "code",
   "execution_count": 14,
   "metadata": {},
   "outputs": [
    {
     "data": {
      "text/html": [
       "<div>\n",
       "<style scoped>\n",
       "    .dataframe tbody tr th:only-of-type {\n",
       "        vertical-align: middle;\n",
       "    }\n",
       "\n",
       "    .dataframe tbody tr th {\n",
       "        vertical-align: top;\n",
       "    }\n",
       "\n",
       "    .dataframe thead th {\n",
       "        text-align: right;\n",
       "    }\n",
       "</style>\n",
       "<table border=\"1\" class=\"dataframe\">\n",
       "  <thead>\n",
       "    <tr style=\"text-align: right;\">\n",
       "      <th></th>\n",
       "      <th>Date</th>\n",
       "      <th>Gia_Ban</th>\n",
       "      <th>Gia_Mua</th>\n",
       "      <th>KL_ban</th>\n",
       "      <th>KL_mua</th>\n",
       "      <th>KL</th>\n",
       "    </tr>\n",
       "  </thead>\n",
       "  <tbody>\n",
       "    <tr>\n",
       "      <th>0</th>\n",
       "      <td>2024-09-23 13:00:00</td>\n",
       "      <td>31.000000</td>\n",
       "      <td>30.850000</td>\n",
       "      <td>671380.0</td>\n",
       "      <td>280260.0</td>\n",
       "      <td>951640.0</td>\n",
       "    </tr>\n",
       "    <tr>\n",
       "      <th>1</th>\n",
       "      <td>2024-09-23 13:01:00</td>\n",
       "      <td>30.990000</td>\n",
       "      <td>30.841667</td>\n",
       "      <td>299390.0</td>\n",
       "      <td>231080.0</td>\n",
       "      <td>530470.0</td>\n",
       "    </tr>\n",
       "    <tr>\n",
       "      <th>2</th>\n",
       "      <td>2024-09-23 13:02:00</td>\n",
       "      <td>30.967857</td>\n",
       "      <td>30.820000</td>\n",
       "      <td>825390.0</td>\n",
       "      <td>201500.0</td>\n",
       "      <td>1026890.0</td>\n",
       "    </tr>\n",
       "    <tr>\n",
       "      <th>3</th>\n",
       "      <td>2024-09-23 13:04:00</td>\n",
       "      <td>30.950000</td>\n",
       "      <td>30.800000</td>\n",
       "      <td>168430.0</td>\n",
       "      <td>43490.0</td>\n",
       "      <td>211920.0</td>\n",
       "    </tr>\n",
       "    <tr>\n",
       "      <th>4</th>\n",
       "      <td>2024-09-23 13:05:00</td>\n",
       "      <td>30.950000</td>\n",
       "      <td>30.800000</td>\n",
       "      <td>293630.0</td>\n",
       "      <td>43890.0</td>\n",
       "      <td>337520.0</td>\n",
       "    </tr>\n",
       "    <tr>\n",
       "      <th>...</th>\n",
       "      <td>...</td>\n",
       "      <td>...</td>\n",
       "      <td>...</td>\n",
       "      <td>...</td>\n",
       "      <td>...</td>\n",
       "      <td>...</td>\n",
       "    </tr>\n",
       "    <tr>\n",
       "      <th>7521</th>\n",
       "      <td>2024-11-15 14:24:00</td>\n",
       "      <td>32.550000</td>\n",
       "      <td>32.400000</td>\n",
       "      <td>7860.0</td>\n",
       "      <td>150120.0</td>\n",
       "      <td>157980.0</td>\n",
       "    </tr>\n",
       "    <tr>\n",
       "      <th>7522</th>\n",
       "      <td>2024-11-15 14:25:00</td>\n",
       "      <td>32.675000</td>\n",
       "      <td>32.504167</td>\n",
       "      <td>33420.0</td>\n",
       "      <td>55340.0</td>\n",
       "      <td>88760.0</td>\n",
       "    </tr>\n",
       "    <tr>\n",
       "      <th>7523</th>\n",
       "      <td>2024-11-15 14:27:00</td>\n",
       "      <td>32.700000</td>\n",
       "      <td>32.550000</td>\n",
       "      <td>138320.0</td>\n",
       "      <td>61600.0</td>\n",
       "      <td>199920.0</td>\n",
       "    </tr>\n",
       "    <tr>\n",
       "      <th>7524</th>\n",
       "      <td>2024-11-15 14:28:00</td>\n",
       "      <td>32.700000</td>\n",
       "      <td>32.550000</td>\n",
       "      <td>33900.0</td>\n",
       "      <td>40730.0</td>\n",
       "      <td>74630.0</td>\n",
       "    </tr>\n",
       "    <tr>\n",
       "      <th>7525</th>\n",
       "      <td>2024-11-15 14:29:00</td>\n",
       "      <td>32.670000</td>\n",
       "      <td>32.541667</td>\n",
       "      <td>163410.0</td>\n",
       "      <td>124680.0</td>\n",
       "      <td>288090.0</td>\n",
       "    </tr>\n",
       "  </tbody>\n",
       "</table>\n",
       "<p>7526 rows × 6 columns</p>\n",
       "</div>"
      ],
      "text/plain": [
       "                    Date    Gia_Ban    Gia_Mua    KL_ban    KL_mua         KL\n",
       "0    2024-09-23 13:00:00  31.000000  30.850000  671380.0  280260.0   951640.0\n",
       "1    2024-09-23 13:01:00  30.990000  30.841667  299390.0  231080.0   530470.0\n",
       "2    2024-09-23 13:02:00  30.967857  30.820000  825390.0  201500.0  1026890.0\n",
       "3    2024-09-23 13:04:00  30.950000  30.800000  168430.0   43490.0   211920.0\n",
       "4    2024-09-23 13:05:00  30.950000  30.800000  293630.0   43890.0   337520.0\n",
       "...                  ...        ...        ...       ...       ...        ...\n",
       "7521 2024-11-15 14:24:00  32.550000  32.400000    7860.0  150120.0   157980.0\n",
       "7522 2024-11-15 14:25:00  32.675000  32.504167   33420.0   55340.0    88760.0\n",
       "7523 2024-11-15 14:27:00  32.700000  32.550000  138320.0   61600.0   199920.0\n",
       "7524 2024-11-15 14:28:00  32.700000  32.550000   33900.0   40730.0    74630.0\n",
       "7525 2024-11-15 14:29:00  32.670000  32.541667  163410.0  124680.0   288090.0\n",
       "\n",
       "[7526 rows x 6 columns]"
      ]
     },
     "execution_count": 14,
     "metadata": {},
     "output_type": "execute_result"
    }
   ],
   "source": [
    "STB"
   ]
  },
  {
   "cell_type": "code",
   "execution_count": 15,
   "metadata": {},
   "outputs": [],
   "source": [
    "STB.rename(columns = {\n",
    "    \"Gia_Mua\": \"BID\",\n",
    "    \"KL_mua\": \"BIDSIZ\",\n",
    "    \"Gia_Ban\": \"ASK\",\n",
    "    \"KL_ban\": \"ASKSIZ\"\n",
    "    }, inplace = True)\n",
    "STB.set_index(\"Date\", inplace=True)"
   ]
  },
  {
   "cell_type": "code",
   "execution_count": 16,
   "metadata": {},
   "outputs": [],
   "source": [
    "quote_imb=imbalance(STB)\n",
    "quote_imb.to_csv('req_files/imbalance.csv')"
   ]
  },
  {
   "cell_type": "code",
   "execution_count": 17,
   "metadata": {},
   "outputs": [
    {
     "name": "stdout",
     "output_type": "stream",
     "text": [
      "File read complete\n"
     ]
    }
   ],
   "source": [
    "sec_trades = data_tick[\"STB\"]\n",
    "print('File read complete')"
   ]
  },
  {
   "cell_type": "markdown",
   "metadata": {},
   "source": [
    "## Applying Theory Based and ML Based Trading Strategies"
   ]
  },
  {
   "cell_type": "code",
   "execution_count": 18,
   "metadata": {},
   "outputs": [],
   "source": [
    "df_corr_assets = pd.read_csv('req_files/AvgCorrAssets.csv',parse_dates=['Time'],index_col='Time')\n",
    "df_vpin = pd.read_csv('req_files/STBVPIN.csv',parse_dates=['Time'],usecols=['Time','CDF'],index_col='Time')\n",
    "df_quote_imb = pd.read_csv('req_files/imbalance.csv',parse_dates=['Date'],index_col='Date')\n",
    "df_quote_imb.index.name = 'Time'\n",
    "df_price = pd.read_csv('req_files/STBprice.csv')[[\"Date\", \"PRICE\"]]\n",
    "df_price = df_price.set_index('Date').rename_axis('Time')"
   ]
  },
  {
   "cell_type": "code",
   "execution_count": 19,
   "metadata": {},
   "outputs": [
    {
     "name": "stdout",
     "output_type": "stream",
     "text": [
      "(5204, 1)\n",
      "(5220, 2)\n",
      "(76410, 3)\n",
      "(152820, 4)\n",
      "(83212, 4)\n"
     ]
    }
   ],
   "source": [
    "frames_info = [df_corr_assets, df_vpin, df_quote_imb, df_price]\n",
    "total_df = pd.DataFrame()\n",
    "for _df in frames_info:\n",
    "    _df = _df[[_df.columns[0]]].reset_index().drop_duplicates(subset='Time', keep='last').set_index('Time')\n",
    "    total_df = total_df.merge(_df[[_df.columns[0]]],left_index=True,right_index=True,how='outer')\n",
    "    print (total_df.shape)\n",
    "total_df = total_df.dropna(axis=0,how='all').fillna(method='ffill').fillna(method='bfill')\n",
    "total_df = total_df.dropna(how='any')\n",
    "print (total_df.shape)"
   ]
  },
  {
   "cell_type": "code",
   "execution_count": 20,
   "metadata": {},
   "outputs": [],
   "source": [
    "total_df.to_csv('req_files/data_qlearner.csv')"
   ]
  },
  {
   "cell_type": "code",
   "execution_count": 21,
   "metadata": {},
   "outputs": [
    {
     "data": {
      "text/html": [
       "<div>\n",
       "<style scoped>\n",
       "    .dataframe tbody tr th:only-of-type {\n",
       "        vertical-align: middle;\n",
       "    }\n",
       "\n",
       "    .dataframe tbody tr th {\n",
       "        vertical-align: top;\n",
       "    }\n",
       "\n",
       "    .dataframe thead th {\n",
       "        text-align: right;\n",
       "    }\n",
       "</style>\n",
       "<table border=\"1\" class=\"dataframe\">\n",
       "  <thead>\n",
       "    <tr style=\"text-align: right;\">\n",
       "      <th></th>\n",
       "      <th>AvgCorrAssets</th>\n",
       "      <th>CDF</th>\n",
       "      <th>quote_imb</th>\n",
       "      <th>PRICE</th>\n",
       "    </tr>\n",
       "    <tr>\n",
       "      <th>Time</th>\n",
       "      <th></th>\n",
       "      <th></th>\n",
       "      <th></th>\n",
       "      <th></th>\n",
       "    </tr>\n",
       "  </thead>\n",
       "  <tbody>\n",
       "    <tr>\n",
       "      <th>2024-09-23 13:00:00</th>\n",
       "      <td>0.0</td>\n",
       "      <td>0.028291</td>\n",
       "      <td>-391120.0</td>\n",
       "      <td>30.941667</td>\n",
       "    </tr>\n",
       "    <tr>\n",
       "      <th>2024-09-23 13:01:00</th>\n",
       "      <td>0.0</td>\n",
       "      <td>0.028291</td>\n",
       "      <td>-68310.0</td>\n",
       "      <td>30.941667</td>\n",
       "    </tr>\n",
       "    <tr>\n",
       "      <th>2024-09-23 13:02:00</th>\n",
       "      <td>0.0</td>\n",
       "      <td>0.028291</td>\n",
       "      <td>-623890.0</td>\n",
       "      <td>30.941667</td>\n",
       "    </tr>\n",
       "    <tr>\n",
       "      <th>2024-09-23 13:03:00</th>\n",
       "      <td>0.0</td>\n",
       "      <td>0.028291</td>\n",
       "      <td>-623890.0</td>\n",
       "      <td>30.941667</td>\n",
       "    </tr>\n",
       "    <tr>\n",
       "      <th>2024-09-23 13:04:00</th>\n",
       "      <td>0.0</td>\n",
       "      <td>0.028291</td>\n",
       "      <td>-124940.0</td>\n",
       "      <td>30.941667</td>\n",
       "    </tr>\n",
       "  </tbody>\n",
       "</table>\n",
       "</div>"
      ],
      "text/plain": [
       "                     AvgCorrAssets       CDF  quote_imb      PRICE\n",
       "Time                                                              \n",
       "2024-09-23 13:00:00            0.0  0.028291  -391120.0  30.941667\n",
       "2024-09-23 13:01:00            0.0  0.028291   -68310.0  30.941667\n",
       "2024-09-23 13:02:00            0.0  0.028291  -623890.0  30.941667\n",
       "2024-09-23 13:03:00            0.0  0.028291  -623890.0  30.941667\n",
       "2024-09-23 13:04:00            0.0  0.028291  -124940.0  30.941667"
      ]
     },
     "execution_count": 21,
     "metadata": {},
     "output_type": "execute_result"
    }
   ],
   "source": [
    "df = total_df.copy()\n",
    "df.head()"
   ]
  },
  {
   "cell_type": "code",
   "execution_count": 30,
   "metadata": {},
   "outputs": [],
   "source": [
    "df[\"returns\"] = df[\"PRICE\"].pct_change().shift(-1)\n",
    "df = df.replace([np.inf, -np.inf], np.nan).ffill().iloc[:-1]\n",
    "df.index = pd.to_datetime(df.index)\n",
    "df = df.between_time(\"9:00\", \"15:00\")[df.index.dayofweek < 5]\n",
    "df.to_csv(\"new_data.csv\")\n",
    "\n",
    "savg = df[[\"AvgCorrAssets\", \"quote_imb\"]].rolling(window=100).mean()\n",
    "sstd = df[[\"AvgCorrAssets\", \"quote_imb\"]].rolling(window=100).std()"
   ]
  },
  {
   "cell_type": "code",
   "execution_count": 33,
   "metadata": {},
   "outputs": [],
   "source": [
    "zcorras = ((df[\"AvgCorrAssets\"] - savg[\"AvgCorrAssets\"]) / sstd[\"AvgCorrAssets\"]).clip(-3, 3)\n",
    "zimb = ((df[\"quote_imb\"] - savg[\"quote_imb\"]) / sstd[\"quote_imb\"]).clip(-3, 3)\n",
    "\n",
    "df_trading = pd.DataFrame({\n",
    "    \"price\": df[\"PRICE\"].iloc[100:],\n",
    "    \"cdf\": df[\"CDF\"].iloc[100:],\n",
    "    \"zcorras\": zcorras.iloc[100:],\n",
    "    \"zimb\": zimb.iloc[100:],\n",
    "    \"returns\": df[\"returns\"].iloc[100:],\n",
    "    \"Time\": df.index[100:]\n",
    "}).set_index(\"Time\")\n",
    "\n",
    "df_trading.to_csv(\"final.csv\")"
   ]
  },
  {
   "cell_type": "code",
   "execution_count": 39,
   "metadata": {},
   "outputs": [],
   "source": [
    "pos_lst = []\n",
    "position, bcount, scount = 0, 0, 0\n",
    "\n",
    "for index, row in df_trading.iterrows():\n",
    "    if row[\"cdf\"] > 0.5 and row[\"zcorras\"] > 2:\n",
    "        if row[\"zimb\"] > 1.5:\n",
    "            position = max(0, position + 0.1)\n",
    "            bcount = 10\n",
    "        elif row[\"zimb\"] < -1.5:\n",
    "            position = min(0, position - 0.1)\n",
    "            scount = 10\n",
    "    \n",
    "    if position > 0:\n",
    "        bcount -= 1\n",
    "        if bcount == 0:\n",
    "            position = 0\n",
    "    elif position < 0:\n",
    "        scount -= 1\n",
    "        if scount == 0:\n",
    "            position = 0\n",
    "    \n",
    "    pos_lst.append({\n",
    "        \"Time\": index,\n",
    "        \"position\": position,\n",
    "        \"returns\": row[\"returns\"],\n",
    "        \"price\": row[\"price\"]\n",
    "    })\n",
    "\n",
    "pos = pd.DataFrame(pos_lst).set_index(\"Time\")\n",
    "pos[\"wealth\"] = (1 + pos[\"returns\"] * pos[\"position\"]).cumprod()"
   ]
  },
  {
   "cell_type": "code",
   "execution_count": 40,
   "metadata": {},
   "outputs": [
    {
     "data": {
      "image/png": "[encoded data removed]",
      "text/plain": [
       "<Figure size 640x480 with 2 Axes>"
      ]
     },
     "metadata": {},
     "output_type": "display_data"
    }
   ],
   "source": [
    "ax=pos[['position','wealth']].plot(secondary_y=['wealth'])"
   ]
  },
  {
   "cell_type": "markdown",
   "metadata": {},
   "source": [
    "### Applying ML Classification Based Strategies"
   ]
  },
  {
   "cell_type": "code",
   "execution_count": 25,
   "metadata": {},
   "outputs": [],
   "source": [
    "df= df_trading.copy()\n",
    "df=df[df['zcorras'].notnull()]\n",
    "number = int(df.shape[0]*0.7)"
   ]
  },
  {
   "cell_type": "code",
   "execution_count": 26,
   "metadata": {},
   "outputs": [],
   "source": [
    "X = df[['cdf','zcorras','zimb']]\n",
    "y=(df['returns']>0).astype(int)\n",
    "\n",
    "# Split the data into training/testing sets\n",
    "df_X_train = X[:number]\n",
    "df_X_test = X[number:]\n",
    "\n",
    "# Split the targets into training/testing sets\n",
    "df_y_train = y[:number]\n",
    "df_y_test = y[number:]"
   ]
  },
  {
   "cell_type": "code",
   "execution_count": 27,
   "metadata": {},
   "outputs": [
    {
     "name": "stdout",
     "output_type": "stream",
     "text": [
      "Failed:  KNeighborsClassifier(n_neighbors=4) Nearest Neighbors\n",
      "Failed:  SVC(C=0.025, kernel='linear') Linear SVM\n",
      "Failed:  SVC(C=1, gamma=0.25) RBF SVM\n",
      "              precision    recall  f1-score   support\n",
      "\n",
      "           0       0.99      1.00      1.00      4582\n",
      "           1       0.00      0.00      0.00        33\n",
      "\n",
      "    accuracy                           0.99      4615\n",
      "   macro avg       0.50      0.50      0.50      4615\n",
      "weighted avg       0.99      0.99      0.99      4615\n",
      "\n"
     ]
    },
    {
     "data": {
      "image/png": "[encoded data removed]",
      "text/plain": [
       "<Figure size 640x480 with 2 Axes>"
      ]
     },
     "metadata": {},
     "output_type": "display_data"
    },
    {
     "name": "stdout",
     "output_type": "stream",
     "text": [
      "              precision    recall  f1-score   support\n",
      "\n",
      "           0       0.99      1.00      1.00      4582\n",
      "           1       0.00      0.00      0.00        33\n",
      "\n",
      "    accuracy                           0.99      4615\n",
      "   macro avg       0.50      0.50      0.50      4615\n",
      "weighted avg       0.99      0.99      0.99      4615\n",
      "\n"
     ]
    },
    {
     "data": {
      "image/png": "[encoded data removed]",
      "text/plain": [
       "<Figure size 640x480 with 2 Axes>"
      ]
     },
     "metadata": {},
     "output_type": "display_data"
    },
    {
     "name": "stdout",
     "output_type": "stream",
     "text": [
      "Failed:  MLPClassifier(alpha=1) Neural Net\n",
      "Failed:  AdaBoostClassifier() AdaBoost\n",
      "Failed:  GaussianNB() Naive Bayes\n",
      "Failed:  QuadraticDiscriminantAnalysis() QDA\n"
     ]
    }
   ],
   "source": [
    "score=[]\n",
    "pos=None\n",
    "classifiers = [\n",
    "    KNeighborsClassifier(4),\n",
    "    SVC(kernel=\"linear\", C=0.025),\n",
    "    SVC(gamma=0.25, C=1),\n",
    "    DecisionTreeClassifier(max_depth=5),\n",
    "    RandomForestClassifier(max_depth=5, n_estimators=10, max_features=4),\n",
    "    MLPClassifier(alpha=1),\n",
    "    AdaBoostClassifier(),\n",
    "    GaussianNB(),\n",
    "    QuadraticDiscriminantAnalysis()]\n",
    "\n",
    "names = [\"Nearest Neighbors\", \"Linear SVM\", \"RBF SVM\",\n",
    "         \"Decision Tree\", \"Random Forest\", \"Neural Net\", \"AdaBoost\",\n",
    "         \"Naive Bayes\", \"QDA\"]\n",
    "\n",
    "for cla,name in zip(classifiers,names): \n",
    "    try:\n",
    "        clf=cla\n",
    "        clf.fit(df_X_train, df_y_train)\n",
    "        score.append(accuracy_score(df_y_test,clf.predict(df_X_test)))\n",
    "        position=((clf.predict_proba(df_X_test))*[-0.05,0.05]).sum(axis=1)\n",
    "        print(classification_report(df_y_test, clf.predict(df_X_test)))\n",
    "        wealth=(1+df['returns'][number:]*position).cumprod()\n",
    "        if(pos is None):\n",
    "            pos=pd.DataFrame({'returns':df['returns'][number:], name:wealth,'price':df['price'][number:],'Time':df.index[number:]}).set_index('Time')\n",
    "        else:\n",
    "            pos[name]=position\n",
    "        ax=pos[[name,'price']].plot(secondary_y=[name])\n",
    "        plt.show()\n",
    "        gc.collect()\n",
    "    except:\n",
    "        print(\"Failed: \",cla, name)\n",
    "        pass"
   ]
  },
  {
   "cell_type": "code",
   "execution_count": null,
   "metadata": {},
   "outputs": [],
   "source": []
  }
 ],
 "metadata": {
  "kernelspec": {
   "display_name": "env",
   "language": "python",
   "name": "python3"
  },
  "language_info": {
   "codemirror_mode": {
    "name": "ipython",
    "version": 3
   },
   "file_extension": ".py",
   "mimetype": "text/x-python",
   "name": "python",
   "nbconvert_exporter": "python",
   "pygments_lexer": "ipython3",
   "version": "3.12.7"
  }
 },
 "nbformat": 4,
 "nbformat_minor": 2
}
