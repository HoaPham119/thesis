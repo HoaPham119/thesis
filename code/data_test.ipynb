{
 "cells": [
  {
   "cell_type": "code",
   "execution_count": 1,
   "metadata": {},
   "outputs": [],
   "source": [
    "import warnings\n",
    "warnings.filterwarnings(\"ignore\")"
   ]
  },
  {
   "cell_type": "code",
   "execution_count": 2,
   "metadata": {},
   "outputs": [],
   "source": [
    "import pandas as pd\n",
    "import numpy as np\n",
    "from func import calc_vpin, imbalance\n",
    "from data_load import load_data\n",
    "from data_processing import transform_buy_sell_volume"
   ]
  },
  {
   "cell_type": "code",
   "execution_count": 3,
   "metadata": {},
   "outputs": [],
   "source": [
    "df={}; sec_trades = {}\n",
    "sym = ['STB', 'SAB','MWG', 'VCB','TCB']"
   ]
  },
  {
   "cell_type": "code",
   "execution_count": 4,
   "metadata": {},
   "outputs": [],
   "source": [
    "## Load data\n",
    "data_tick = load_data(folder=\"tick\")\n",
    "data_orderbook = load_data(folder=\"orderbook\")"
   ]
  },
  {
   "cell_type": "code",
   "execution_count": 5,
   "metadata": {},
   "outputs": [],
   "source": [
    "# Transform data\n",
    "for s in sym:\n",
    "    data = data_tick[s].copy()\n",
    "    data.rename(columns = {\"Gia KL\": \"PRICE\", \"KL\": \"SIZE\"}, inplace = True)\n",
    "    data.set_index(\"Date\", inplace = True)\n",
    "    data = data.resample(\"T\").agg({\n",
    "            'SIZE': 'sum',  # Cột volume tính tổng\n",
    "            'PRICE': 'mean'    # Cột price tính trung bình\n",
    "        })\n",
    "    sec_trades[s] = data"
   ]
  },
  {
   "cell_type": "code",
   "execution_count": 6,
   "metadata": {},
   "outputs": [
    {
     "name": "stdout",
     "output_type": "stream",
     "text": [
      "Calculating VPIN\n",
      "STB (2700, 4)\n",
      "Calculating VPIN\n",
      "SAB (2709, 4)\n",
      "Calculating VPIN\n",
      "MWG (2700, 4)\n",
      "Calculating VPIN\n",
      "VCB (2700, 4)\n",
      "Calculating VPIN\n",
      "TCB (2700, 4)\n"
     ]
    }
   ],
   "source": [
    "# Cal vpin\n",
    "volume = {}\n",
    "for key, val in sec_trades.items():\n",
    "    volume[key] = int(val['SIZE'].resample(\"D\").sum().mean()/50)\n",
    "\n",
    "for s in sym:\n",
    "    print('Calculating VPIN')\n",
    "    df[s] = calc_vpin(sec_trades[s],volume[s],50)\n",
    "    print(s+' '+str(df[s].shape))"
   ]
  },
  {
   "cell_type": "code",
   "execution_count": 7,
   "metadata": {},
   "outputs": [
    {
     "name": "stdout",
     "output_type": "stream",
     "text": [
      "(0, 0)\n",
      "(2032, 2)\n",
      "(2995, 3)\n",
      "(4106, 4)\n",
      "(4784, 5)\n",
      "(5276, 6)\n"
     ]
    }
   ],
   "source": [
    "## \n",
    "avg = pd.DataFrame()\n",
    "print(avg.shape)\n",
    "metric = 'CDF'\n",
    "avg[metric] = np.nan\n",
    "for stock,frame in df.items():\n",
    "    frame = frame[[metric]].reset_index().drop_duplicates(subset='Time', keep='last').set_index('Time')\n",
    "    avg = avg.merge(frame[[metric]],left_index=True,right_index=True,how='outer',suffixes=('',stock))\n",
    "    print(avg.shape)\n",
    "avg = avg.dropna(axis=0,how='all').fillna(method='ffill')\n",
    "avg.to_csv('CDF.csv')"
   ]
  },
  {
   "cell_type": "code",
   "execution_count": 8,
   "metadata": {},
   "outputs": [],
   "source": [
    "fields = ['Time','CDFSTB','CDFSAB','CDFMWG','CDFVCB','CDFTCB']\n",
    "df = pd.read_csv('CDF.csv',parse_dates=['Time'],index_col=[0],usecols = fields)\n",
    "\n",
    "# rolling_pariwise_corr = pd.rolling_corr(df,window=50,pairwise=True)\n",
    "rolling_pariwise_corr = df.rolling(window=50).corr()\n",
    "\n",
    "thres = pd.DataFrame()\n",
    "thres['AvgCorrAssets'] = rolling_pariwise_corr.groupby(by=['Time']).sum().sum(axis=1)/((len(fields)-1)**2)\n",
    "thres.to_csv('AvgCorrAssets.csv')"
   ]
  },
  {
   "cell_type": "code",
   "execution_count": 9,
   "metadata": {},
   "outputs": [],
   "source": [
    "STB = transform_buy_sell_volume(data_dict=data_orderbook, key1 = \"STB\")\n",
    "STB[\"EX\"] = \"HNX\""
   ]
  },
  {
   "cell_type": "code",
   "execution_count": 10,
   "metadata": {},
   "outputs": [],
   "source": [
    "STB.rename(columns = {\n",
    "    \"Gia_Mua\": \"BID\",\n",
    "    \"KL_mua\": \"BIDSIZ\",\n",
    "    \"Gia_Ban\": \"ASK\",\n",
    "    \"KL_ban\": \"ASKSIZ\"\n",
    "    }, inplace = True)\n",
    "STB.set_index(\"Date\", inplace=True)"
   ]
  },
  {
   "cell_type": "code",
   "execution_count": 11,
   "metadata": {},
   "outputs": [],
   "source": [
    "quote_imb=imbalance(STB)\n",
    "quote_imb.to_csv('BACquote_imb.csv')"
   ]
  },
  {
   "cell_type": "code",
   "execution_count": null,
   "metadata": {},
   "outputs": [],
   "source": []
  }
 ],
 "metadata": {
  "kernelspec": {
   "display_name": "env",
   "language": "python",
   "name": "python3"
  },
  "language_info": {
   "codemirror_mode": {
    "name": "ipython",
    "version": 3
   },
   "file_extension": ".py",
   "mimetype": "text/x-python",
   "name": "python",
   "nbconvert_exporter": "python",
   "pygments_lexer": "ipython3",
   "version": "3.12.7"
  }
 },
 "nbformat": 4,
 "nbformat_minor": 2
}
