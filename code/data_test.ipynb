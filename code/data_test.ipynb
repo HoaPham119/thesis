{
 "cells": [
  {
   "cell_type": "code",
   "execution_count": 2,
   "metadata": {},
   "outputs": [],
   "source": [
    "import warnings\n",
    "warnings.filterwarnings(\"ignore\")"
   ]
  },
  {
   "cell_type": "code",
   "execution_count": 3,
   "metadata": {},
   "outputs": [],
   "source": [
    "import pandas as pd\n",
    "import numpy as np\n",
    "import os\n",
    "from func import calc_vpin, imbalance\n",
    "from data_load import load_data\n",
    "from data_processing import transform_buy_sell_volume"
   ]
  },
  {
   "cell_type": "code",
   "execution_count": 4,
   "metadata": {},
   "outputs": [
    {
     "name": "stdout",
     "output_type": "stream",
     "text": [
      "Thư mục 'req_files' đã tồn tại.\n"
     ]
    }
   ],
   "source": [
    "# Đường dẫn tới thư mục cần kiểm tra\n",
    "folder_path = \"req_files\"\n",
    "# Kiểm tra nếu thư mục chưa tồn tại thì tạo mới\n",
    "if not os.path.exists(folder_path):\n",
    "    os.makedirs(folder_path)\n",
    "    print(f\"Đã tạo thư mục: {folder_path}\")\n",
    "else:\n",
    "    print(f\"Thư mục '{folder_path}' đã tồn tại.\")"
   ]
  },
  {
   "cell_type": "code",
   "execution_count": 4,
   "metadata": {},
   "outputs": [],
   "source": [
    "df={}; sec_trades = {}\n",
    "sym = ['STB', 'SAB','MWG', 'VCB','TCB']"
   ]
  },
  {
   "cell_type": "code",
   "execution_count": 5,
   "metadata": {},
   "outputs": [],
   "source": [
    "## Load data\n",
    "data_tick = load_data(folder=\"tick\")\n",
    "data_orderbook = load_data(folder=\"orderbook\")"
   ]
  },
  {
   "cell_type": "code",
   "execution_count": 6,
   "metadata": {},
   "outputs": [],
   "source": [
    "# Transform data\n",
    "for s in sym:\n",
    "    data = data_tick[s].copy()\n",
    "    data.rename(columns = {\"Gia KL\": \"PRICE\", \"KL\": \"SIZE\"}, inplace = True)\n",
    "    data.set_index(\"Date\", inplace = True)\n",
    "    data = data.resample(\"T\").agg({\n",
    "            'SIZE': 'sum',  # Cột volume tính tổng\n",
    "            'PRICE': 'mean'    # Cột price tính trung bình\n",
    "        })\n",
    "    data.to_csv(f\"req_files/{s}price.csv\")\n",
    "    sec_trades[s] = data"
   ]
  },
  {
   "cell_type": "code",
   "execution_count": 7,
   "metadata": {},
   "outputs": [
    {
     "name": "stdout",
     "output_type": "stream",
     "text": [
      "Calculating VPIN\n",
      "STB (2700, 4)\n",
      "Calculating VPIN\n",
      "SAB (2709, 4)\n",
      "Calculating VPIN\n",
      "MWG (2700, 4)\n",
      "Calculating VPIN\n",
      "VCB (2700, 4)\n",
      "Calculating VPIN\n",
      "TCB (2700, 4)\n"
     ]
    }
   ],
   "source": [
    "# Cal vpin\n",
    "volume = {}\n",
    "for key, val in sec_trades.items():\n",
    "    volume[key] = int(val['SIZE'].resample(\"D\").sum().mean()/50) # Sum của từng ngày, rồi lấy mean, rồi chia 50\n",
    "\n",
    "for s in sym:\n",
    "    print('Calculating VPIN')\n",
    "    df[s] = calc_vpin(sec_trades[s],volume[s],50)\n",
    "    df[s].to_csv(f\"req_files/{s}VPIN.csv\",index = True)\n",
    "    print(s+' '+str(df[s].shape))"
   ]
  },
  {
   "cell_type": "code",
   "execution_count": 8,
   "metadata": {},
   "outputs": [
    {
     "name": "stdout",
     "output_type": "stream",
     "text": [
      "(0, 0)\n",
      "(2032, 2)\n",
      "(2995, 3)\n",
      "(4106, 4)\n",
      "(4784, 5)\n",
      "(5276, 6)\n"
     ]
    }
   ],
   "source": [
    "## \n",
    "avg = pd.DataFrame()\n",
    "print(avg.shape)\n",
    "metric = 'CDF'\n",
    "avg[metric] = np.nan\n",
    "for stock,frame in df.items():\n",
    "    frame = frame[[metric]].reset_index().drop_duplicates(subset='Time', keep='last').set_index('Time')\n",
    "    avg = avg.merge(frame[[metric]],left_index=True,right_index=True,how='outer',suffixes=('',stock))\n",
    "    print(avg.shape)\n",
    "avg = avg.dropna(axis=0,how='all').fillna(method='ffill')\n",
    "avg.to_csv('req_files/CDF.csv')"
   ]
  },
  {
   "cell_type": "code",
   "execution_count": 9,
   "metadata": {},
   "outputs": [],
   "source": [
    "fields = ['Time','CDFSTB','CDFSAB','CDFMWG','CDFVCB','CDFTCB']\n",
    "df = pd.read_csv('req_files/CDF.csv',parse_dates=['Time'],index_col=[0],usecols = fields)\n",
    "\n",
    "# rolling_pariwise_corr = pd.rolling_corr(df,window=50,pairwise=True)\n",
    "rolling_pariwise_corr = df.rolling(window=50).corr()\n",
    "\n",
    "thres = pd.DataFrame()\n",
    "thres['AvgCorrAssets'] = rolling_pariwise_corr.groupby(by=['Time']).sum().sum(axis=1)/((len(fields)-1)**2)\n",
    "thres.to_csv('req_files/AvgCorrAssets.csv')"
   ]
  },
  {
   "cell_type": "code",
   "execution_count": 10,
   "metadata": {},
   "outputs": [],
   "source": [
    "STB = transform_buy_sell_volume(data_dict=data_orderbook, key1 = \"STB\")\n",
    "STB[\"EX\"] = \"HNX\""
   ]
  },
  {
   "cell_type": "code",
   "execution_count": 11,
   "metadata": {},
   "outputs": [],
   "source": [
    "STB.rename(columns = {\n",
    "    \"Gia_Mua\": \"BID\",\n",
    "    \"KL_mua\": \"BIDSIZ\",\n",
    "    \"Gia_Ban\": \"ASK\",\n",
    "    \"KL_ban\": \"ASKSIZ\"\n",
    "    }, inplace = True)\n",
    "STB.set_index(\"Date\", inplace=True)"
   ]
  },
  {
   "cell_type": "code",
   "execution_count": 12,
   "metadata": {},
   "outputs": [],
   "source": [
    "quote_imb=imbalance(STB)\n",
    "quote_imb.to_csv('req_files/imbalance.csv')"
   ]
  },
  {
   "cell_type": "code",
   "execution_count": 13,
   "metadata": {},
   "outputs": [
    {
     "name": "stdout",
     "output_type": "stream",
     "text": [
      "File read complete\n"
     ]
    }
   ],
   "source": [
    "sec_trades = data_tick[\"STB\"]\n",
    "sec_trades[\"EX\"] = \"HNX\"\n",
    "print('File read complete')"
   ]
  },
  {
   "cell_type": "code",
   "execution_count": 14,
   "metadata": {},
   "outputs": [],
   "source": [
    "# exchanges = sec_trades['EX'].unique()\n",
    "# exchanges = exchanges[:-2]\n",
    "# bucketsize_standard = 100000\n",
    "# rolling_window = 50\n",
    "# df_list = list()\n",
    "# df_vpin_list = list()\n",
    "# volume_exchanges = list()\n",
    "# bucketsize = list()\n",
    "# for i in range(len(exchanges)-1):\n",
    "#     df_list.append(sec_trades[sec_trades['EX'] == exchanges[i]])\n",
    "# for i in range(len(exchanges)):\n",
    "#     volume_exchanges.append(df_list[i]['SIZE'].sum())\n",
    "# nbuckets = 6574\n",
    "# for i in range(len(exchanges)):\n",
    "#     bucketsize = int(volume_exchanges[i]/nbuckets)\n",
    "#     df_vpin_list.append(calc_vpin(df_list[i],bucketsize,rolling_window))\n",
    "    \n",
    "    \n",
    "# avg = pd.DataFrame()\n",
    "# metric = 'VPIN'\n",
    "# avg[metric] = np.nan\n",
    "# for i in range(len(exchanges)):\n",
    "#     print(exchanges[i])\n",
    "#     frame = df_vpin_list[i]\n",
    "#     frame = frame[[metric]].reset_index().drop_duplicates(subset='Time', keep='last').set_index('Time')\n",
    "#     avg = avg.merge(frame[[metric]],left_index=True,right_index=True,how='outer',suffixes=('',exchanges[i]))\n",
    "#     print(avg.shape)\n",
    "# avg = avg.dropna(axis=0,how='all').fillna(method='ffill')\n",
    "# del avg['VPIN']\n",
    "# avg = avg.dropna()\n",
    "# print(avg)\n",
    "# # rolling_pariwise_corr = pd.rolling_corr(avg,window=50,pairwise=True)\n",
    "# rolling_pariwise_corr = avg.rolling(window=50).corr()\n",
    "# thres = pd.DataFrame()\n",
    "# thres['AvgCorrEx'] = rolling_pariwise_corr.groupby(by=['Time']).sum().sum(axis=1)/(len(exchanges)**2)\n",
    "# print(thres.tail())\n",
    "# thres.to_csv('AvgCorrEx.csv')"
   ]
  },
  {
   "cell_type": "markdown",
   "metadata": {},
   "source": [
    "## Applying Theory Based and ML Based Trading Strategies"
   ]
  },
  {
   "cell_type": "code",
   "execution_count": 7,
   "metadata": {},
   "outputs": [],
   "source": [
    "df_corr_assets = pd.read_csv('req_files/AvgCorrAssets.csv',parse_dates=['Time'],index_col='Time')\n",
    "# df_corr_ex = pd.read_csv('req_files/AvgCorrEx.csv',parse_dates=['Time'],index_col='Time') # Chứng khoán VN mỗi mã cổ phiếu chỉ có 1 exchange nên không cần phần này\n",
    "df_vpin = pd.read_csv('req_files/STBVPIN.csv',parse_dates=['Time'],usecols=['Time','CDF'],index_col='Time')\n",
    "df_quote_imb = pd.read_csv('req_files/imbalance.csv',parse_dates=['Date'],index_col='Date')\n",
    "df_quote_imb.index.name = 'TIME'\n",
    "df_price = pd.read_csv('req_files/STBprice.csv')[[\"Date\", \"PRICE\"]]\n",
    "df_price.index.name = 'Date'"
   ]
  },
  {
   "cell_type": "code",
   "execution_count": null,
   "metadata": {},
   "outputs": [
    {
     "name": "stdout",
     "output_type": "stream",
     "text": [
      "(5204, 1)\n",
      "(5220, 2)\n",
      "(76410, 3)\n",
      "(152820, 4)\n",
      "(83212, 4)\n"
     ]
    }
   ],
   "source": [
    "total_df = pd.DataFrame()\n",
    "frame = df_corr_assets[[df_corr_assets.columns[0]]].reset_index().drop_duplicates(subset='Time', keep='last').set_index('Time')\n",
    "total_df = total_df.merge(frame[[frame.columns[0]]],left_index=True,right_index=True,how='outer')\n",
    "print (total_df.shape)\n",
    "\n",
    "frame = df_vpin[[df_vpin.columns[0]]].reset_index().drop_duplicates(subset='Time', keep='last').set_index('Time')\n",
    "total_df = total_df.merge(frame[[frame.columns[0]]],left_index=True,right_index=True,how='outer')\n",
    "print (total_df.shape)\n",
    "\n",
    "frame = df_quote_imb[[df_quote_imb.columns[0]]].reset_index().drop_duplicates(subset='TIME', keep='last').set_index('TIME')\n",
    "total_df = total_df.merge(frame[[frame.columns[0]]],left_index=True,right_index=True,how='outer')\n",
    "print (total_df.shape)\n",
    "\n",
    "frame = df_price.drop_duplicates(subset='Date', keep='last').set_index('Date')\n",
    "total_df = total_df.merge(frame[[frame.columns[0]]],left_index=True,right_index=True,how='outer')\n",
    "print (total_df.shape)\n",
    "\n",
    "total_df = total_df.dropna(axis=0,how='all').fillna(method='ffill').fillna(method='bfill')\n",
    "total_df = total_df.dropna(how='any')\n",
    "print (total_df.shape)"
   ]
  },
  {
   "cell_type": "code",
   "execution_count": null,
   "metadata": {},
   "outputs": [],
   "source": []
  }
 ],
 "metadata": {
  "kernelspec": {
   "display_name": "env",
   "language": "python",
   "name": "python3"
  },
  "language_info": {
   "codemirror_mode": {
    "name": "ipython",
    "version": 3
   },
   "file_extension": ".py",
   "mimetype": "text/x-python",
   "name": "python",
   "nbconvert_exporter": "python",
   "pygments_lexer": "ipython3",
   "version": "3.12.7"
  }
 },
 "nbformat": 4,
 "nbformat_minor": 2
}
