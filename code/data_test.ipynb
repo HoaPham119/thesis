{
 "cells": [
  {
   "cell_type": "code",
   "execution_count": 1,
   "metadata": {},
   "outputs": [],
   "source": [
    "import warnings\n",
    "warnings.filterwarnings(\"ignore\")"
   ]
  },
  {
   "cell_type": "code",
   "execution_count": 2,
   "metadata": {},
   "outputs": [],
   "source": [
    "import pandas as pd\n",
    "import numpy as np\n",
    "import os\n",
    "from func import calc_vpin, imbalance\n",
    "from data_load import load_data\n",
    "from data_processing import transform_buy_sell_volume"
   ]
  },
  {
   "cell_type": "code",
   "execution_count": 3,
   "metadata": {},
   "outputs": [
    {
     "name": "stdout",
     "output_type": "stream",
     "text": [
      "Thư mục 'req_files' đã tồn tại.\n"
     ]
    }
   ],
   "source": [
    "# Đường dẫn tới thư mục cần kiểm tra\n",
    "folder_path = \"req_files\"\n",
    "# Kiểm tra nếu thư mục chưa tồn tại thì tạo mới\n",
    "if not os.path.exists(folder_path):\n",
    "    os.makedirs(folder_path)\n",
    "    print(f\"Đã tạo thư mục: {folder_path}\")\n",
    "else:\n",
    "    print(f\"Thư mục '{folder_path}' đã tồn tại.\")"
   ]
  },
  {
   "cell_type": "code",
   "execution_count": 4,
   "metadata": {},
   "outputs": [],
   "source": [
    "df={}; sec_trades = {}\n",
    "sym = ['STB', 'SAB','MWG', 'VCB','TCB']"
   ]
  },
  {
   "cell_type": "code",
   "execution_count": 5,
   "metadata": {},
   "outputs": [],
   "source": [
    "## Load data\n",
    "data_tick = load_data(folder=\"tick\")\n",
    "data_orderbook = load_data(folder=\"orderbook\")"
   ]
  },
  {
   "cell_type": "code",
   "execution_count": 6,
   "metadata": {},
   "outputs": [],
   "source": [
    "# Transform data\n",
    "for s in sym:\n",
    "    data = data_tick[s].copy()\n",
    "    data.rename(columns = {\"Gia KL\": \"PRICE\", \"KL\": \"SIZE\"}, inplace = True)\n",
    "    data.set_index(\"Date\", inplace = True)\n",
    "    data = data.resample(\"T\").agg({\n",
    "            'SIZE': 'sum',  # Cột volume tính tổng\n",
    "            'PRICE': 'mean'    # Cột price tính trung bình\n",
    "        })\n",
    "    data.to_csv(f\"req_files/{s}price.csv\")\n",
    "    sec_trades[s] = data"
   ]
  },
  {
   "cell_type": "code",
   "execution_count": 7,
   "metadata": {},
   "outputs": [
    {
     "name": "stdout",
     "output_type": "stream",
     "text": [
      "Calculating VPIN\n",
      "STB (2700, 4)\n",
      "Calculating VPIN\n",
      "SAB (2709, 4)\n",
      "Calculating VPIN\n",
      "MWG (2700, 4)\n",
      "Calculating VPIN\n",
      "VCB (2700, 4)\n",
      "Calculating VPIN\n",
      "TCB (2700, 4)\n"
     ]
    }
   ],
   "source": [
    "# Cal vpin\n",
    "volume = {}\n",
    "for key, val in sec_trades.items():\n",
    "    volume[key] = int(val['SIZE'].resample(\"D\").sum().mean()/50) # Sum của từng ngày, rồi lấy mean, rồi chia 50\n",
    "\n",
    "for s in sym:\n",
    "    print('Calculating VPIN')\n",
    "    df[s] = calc_vpin(sec_trades[s],volume[s],50)\n",
    "    df[s].to_csv(f\"req_files/{s}VPIN.csv\",index = True)\n",
    "    print(s+' '+str(df[s].shape))"
   ]
  },
  {
   "cell_type": "code",
   "execution_count": 8,
   "metadata": {},
   "outputs": [
    {
     "name": "stdout",
     "output_type": "stream",
     "text": [
      "(0, 0)\n",
      "(2032, 2)\n",
      "(2995, 3)\n",
      "(4106, 4)\n",
      "(4784, 5)\n",
      "(5276, 6)\n"
     ]
    }
   ],
   "source": [
    "## \n",
    "avg = pd.DataFrame()\n",
    "print(avg.shape)\n",
    "metric = 'CDF'\n",
    "avg[metric] = np.nan\n",
    "for stock,frame in df.items():\n",
    "    frame = frame[[metric]].reset_index().drop_duplicates(subset='Time', keep='last').set_index('Time')\n",
    "    avg = avg.merge(frame[[metric]],left_index=True,right_index=True,how='outer',suffixes=('',stock))\n",
    "    print(avg.shape)\n",
    "avg = avg.dropna(axis=0,how='all').fillna(method='ffill')\n",
    "avg.to_csv('req_files/CDF.csv')"
   ]
  },
  {
   "cell_type": "code",
   "execution_count": 9,
   "metadata": {},
   "outputs": [],
   "source": [
    "fields = ['Time','CDFSTB','CDFSAB','CDFMWG','CDFVCB','CDFTCB']\n",
    "df = pd.read_csv('req_files/CDF.csv',parse_dates=['Time'],index_col=[0],usecols = fields)\n",
    "\n",
    "# rolling_pariwise_corr = pd.rolling_corr(df,window=50,pairwise=True)\n",
    "rolling_pariwise_corr = df.rolling(window=50).corr()\n",
    "\n",
    "thres = pd.DataFrame()\n",
    "thres['AvgCorrAssets'] = rolling_pariwise_corr.groupby(by=['Time']).sum().sum(axis=1)/((len(fields)-1)**2)\n",
    "thres.to_csv('req_files/AvgCorrAssets.csv')"
   ]
  },
  {
   "cell_type": "code",
   "execution_count": 10,
   "metadata": {},
   "outputs": [],
   "source": [
    "STB = transform_buy_sell_volume(data_dict=data_orderbook, key1 = \"STB\")\n",
    "STB[\"EX\"] = \"HNX\""
   ]
  },
  {
   "cell_type": "code",
   "execution_count": 11,
   "metadata": {},
   "outputs": [],
   "source": [
    "STB.rename(columns = {\n",
    "    \"Gia_Mua\": \"BID\",\n",
    "    \"KL_mua\": \"BIDSIZ\",\n",
    "    \"Gia_Ban\": \"ASK\",\n",
    "    \"KL_ban\": \"ASKSIZ\"\n",
    "    }, inplace = True)\n",
    "STB.set_index(\"Date\", inplace=True)"
   ]
  },
  {
   "cell_type": "code",
   "execution_count": 12,
   "metadata": {},
   "outputs": [],
   "source": [
    "quote_imb=imbalance(STB)\n",
    "quote_imb.to_csv('req_files/imbalance.csv')"
   ]
  },
  {
   "cell_type": "code",
   "execution_count": 13,
   "metadata": {},
   "outputs": [
    {
     "name": "stdout",
     "output_type": "stream",
     "text": [
      "File read complete\n"
     ]
    }
   ],
   "source": [
    "sec_trades = data_tick[\"STB\"]\n",
    "sec_trades[\"EX\"] = \"HNX\"\n",
    "print('File read complete')"
   ]
  },
  {
   "cell_type": "code",
   "execution_count": 14,
   "metadata": {},
   "outputs": [],
   "source": [
    "# exchanges = sec_trades['EX'].unique()\n",
    "# exchanges = exchanges[:-2]\n",
    "# bucketsize_standard = 100000\n",
    "# rolling_window = 50\n",
    "# df_list = list()\n",
    "# df_vpin_list = list()\n",
    "# volume_exchanges = list()\n",
    "# bucketsize = list()\n",
    "# for i in range(len(exchanges)-1):\n",
    "#     df_list.append(sec_trades[sec_trades['EX'] == exchanges[i]])\n",
    "# for i in range(len(exchanges)):\n",
    "#     volume_exchanges.append(df_list[i]['SIZE'].sum())\n",
    "# nbuckets = 6574\n",
    "# for i in range(len(exchanges)):\n",
    "#     bucketsize = int(volume_exchanges[i]/nbuckets)\n",
    "#     df_vpin_list.append(calc_vpin(df_list[i],bucketsize,rolling_window))\n",
    "    \n",
    "    \n",
    "# avg = pd.DataFrame()\n",
    "# metric = 'VPIN'\n",
    "# avg[metric] = np.nan\n",
    "# for i in range(len(exchanges)):\n",
    "#     print(exchanges[i])\n",
    "#     frame = df_vpin_list[i]\n",
    "#     frame = frame[[metric]].reset_index().drop_duplicates(subset='Time', keep='last').set_index('Time')\n",
    "#     avg = avg.merge(frame[[metric]],left_index=True,right_index=True,how='outer',suffixes=('',exchanges[i]))\n",
    "#     print(avg.shape)\n",
    "# avg = avg.dropna(axis=0,how='all').fillna(method='ffill')\n",
    "# del avg['VPIN']\n",
    "# avg = avg.dropna()\n",
    "# print(avg)\n",
    "# # rolling_pariwise_corr = pd.rolling_corr(avg,window=50,pairwise=True)\n",
    "# rolling_pariwise_corr = avg.rolling(window=50).corr()\n",
    "# thres = pd.DataFrame()\n",
    "# thres['AvgCorrEx'] = rolling_pariwise_corr.groupby(by=['Time']).sum().sum(axis=1)/(len(exchanges)**2)\n",
    "# print(thres.tail())\n",
    "# thres.to_csv('AvgCorrEx.csv')"
   ]
  },
  {
   "cell_type": "markdown",
   "metadata": {},
   "source": [
    "## Applying Theory Based and ML Based Trading Strategies"
   ]
  },
  {
   "cell_type": "code",
   "execution_count": 15,
   "metadata": {},
   "outputs": [],
   "source": [
    "df_corr_assets = pd.read_csv('req_files/AvgCorrAssets.csv',parse_dates=['Time'],index_col='Time')\n",
    "# df_corr_ex = pd.read_csv('req_files/AvgCorrEx.csv',parse_dates=['Time'],index_col='Time') # Chứng khoán VN mỗi mã cổ phiếu chỉ có 1 exchange nên không cần phần này\n",
    "df_vpin = pd.read_csv('req_files/STBVPIN.csv',parse_dates=['Time'],usecols=['Time','CDF'],index_col='Time')\n",
    "df_quote_imb = pd.read_csv('req_files/imbalance.csv',parse_dates=['Date'],index_col='Date')\n",
    "df_quote_imb.index.name = 'TIME'\n",
    "df_price = pd.read_csv('req_files/STBprice.csv')[[\"Date\", \"PRICE\"]]\n",
    "df_price.index.name = 'Date'"
   ]
  },
  {
   "cell_type": "code",
   "execution_count": 16,
   "metadata": {},
   "outputs": [
    {
     "name": "stdout",
     "output_type": "stream",
     "text": [
      "(5204, 1)\n",
      "(5220, 2)\n",
      "(76410, 3)\n",
      "(152820, 4)\n",
      "(83212, 4)\n"
     ]
    }
   ],
   "source": [
    "total_df = pd.DataFrame()\n",
    "frame = df_corr_assets[[df_corr_assets.columns[0]]].reset_index().drop_duplicates(subset='Time', keep='last').set_index('Time')\n",
    "total_df = total_df.merge(frame[[frame.columns[0]]],left_index=True,right_index=True,how='outer')\n",
    "print (total_df.shape)\n",
    "\n",
    "frame = df_vpin[[df_vpin.columns[0]]].reset_index().drop_duplicates(subset='Time', keep='last').set_index('Time')\n",
    "total_df = total_df.merge(frame[[frame.columns[0]]],left_index=True,right_index=True,how='outer')\n",
    "print (total_df.shape)\n",
    "\n",
    "frame = df_quote_imb[[df_quote_imb.columns[0]]].reset_index().drop_duplicates(subset='TIME', keep='last').set_index('TIME')\n",
    "total_df = total_df.merge(frame[[frame.columns[0]]],left_index=True,right_index=True,how='outer')\n",
    "print (total_df.shape)\n",
    "\n",
    "frame = df_price.drop_duplicates(subset='Date', keep='last').set_index('Date')\n",
    "total_df = total_df.merge(frame[[frame.columns[0]]],left_index=True,right_index=True,how='outer')\n",
    "print (total_df.shape)\n",
    "\n",
    "total_df = total_df.dropna(axis=0,how='all').fillna(method='ffill').fillna(method='bfill')\n",
    "total_df = total_df.dropna(how='any')\n",
    "print (total_df.shape)"
   ]
  },
  {
   "cell_type": "code",
   "execution_count": 24,
   "metadata": {},
   "outputs": [],
   "source": [
    "total_df.to_csv('req_files/data_qlearner.csv')"
   ]
  },
  {
   "cell_type": "code",
   "execution_count": 25,
   "metadata": {},
   "outputs": [
    {
     "data": {
      "text/html": [
       "<div>\n",
       "<style scoped>\n",
       "    .dataframe tbody tr th:only-of-type {\n",
       "        vertical-align: middle;\n",
       "    }\n",
       "\n",
       "    .dataframe tbody tr th {\n",
       "        vertical-align: top;\n",
       "    }\n",
       "\n",
       "    .dataframe thead th {\n",
       "        text-align: right;\n",
       "    }\n",
       "</style>\n",
       "<table border=\"1\" class=\"dataframe\">\n",
       "  <thead>\n",
       "    <tr style=\"text-align: right;\">\n",
       "      <th></th>\n",
       "      <th>AvgCorrAssets</th>\n",
       "      <th>CDF</th>\n",
       "      <th>quote_imb</th>\n",
       "      <th>PRICE</th>\n",
       "    </tr>\n",
       "    <tr>\n",
       "      <th>Time</th>\n",
       "      <th></th>\n",
       "      <th></th>\n",
       "      <th></th>\n",
       "      <th></th>\n",
       "    </tr>\n",
       "  </thead>\n",
       "  <tbody>\n",
       "    <tr>\n",
       "      <th>2024-09-23 13:00:00</th>\n",
       "      <td>0.0</td>\n",
       "      <td>0.028291</td>\n",
       "      <td>-391120.0</td>\n",
       "      <td>30.941667</td>\n",
       "    </tr>\n",
       "    <tr>\n",
       "      <th>2024-09-23 13:01:00</th>\n",
       "      <td>0.0</td>\n",
       "      <td>0.028291</td>\n",
       "      <td>-68310.0</td>\n",
       "      <td>30.941667</td>\n",
       "    </tr>\n",
       "    <tr>\n",
       "      <th>2024-09-23 13:02:00</th>\n",
       "      <td>0.0</td>\n",
       "      <td>0.028291</td>\n",
       "      <td>-623890.0</td>\n",
       "      <td>30.941667</td>\n",
       "    </tr>\n",
       "    <tr>\n",
       "      <th>2024-09-23 13:03:00</th>\n",
       "      <td>0.0</td>\n",
       "      <td>0.028291</td>\n",
       "      <td>-623890.0</td>\n",
       "      <td>30.941667</td>\n",
       "    </tr>\n",
       "    <tr>\n",
       "      <th>2024-09-23 13:04:00</th>\n",
       "      <td>0.0</td>\n",
       "      <td>0.028291</td>\n",
       "      <td>-124940.0</td>\n",
       "      <td>30.941667</td>\n",
       "    </tr>\n",
       "  </tbody>\n",
       "</table>\n",
       "</div>"
      ],
      "text/plain": [
       "                     AvgCorrAssets       CDF  quote_imb      PRICE\n",
       "Time                                                              \n",
       "2024-09-23 13:00:00            0.0  0.028291  -391120.0  30.941667\n",
       "2024-09-23 13:01:00            0.0  0.028291   -68310.0  30.941667\n",
       "2024-09-23 13:02:00            0.0  0.028291  -623890.0  30.941667\n",
       "2024-09-23 13:03:00            0.0  0.028291  -623890.0  30.941667\n",
       "2024-09-23 13:04:00            0.0  0.028291  -124940.0  30.941667"
      ]
     },
     "execution_count": 25,
     "metadata": {},
     "output_type": "execute_result"
    }
   ],
   "source": [
    "df = total_df.copy()\n",
    "df.index.name = \"Time\"\n",
    "df.head()"
   ]
  },
  {
   "cell_type": "code",
   "execution_count": 26,
   "metadata": {},
   "outputs": [
    {
     "data": {
      "text/html": [
       "<div>\n",
       "<style scoped>\n",
       "    .dataframe tbody tr th:only-of-type {\n",
       "        vertical-align: middle;\n",
       "    }\n",
       "\n",
       "    .dataframe tbody tr th {\n",
       "        vertical-align: top;\n",
       "    }\n",
       "\n",
       "    .dataframe thead th {\n",
       "        text-align: right;\n",
       "    }\n",
       "</style>\n",
       "<table border=\"1\" class=\"dataframe\">\n",
       "  <thead>\n",
       "    <tr style=\"text-align: right;\">\n",
       "      <th></th>\n",
       "      <th>AvgCorrAssets</th>\n",
       "      <th>CDF</th>\n",
       "      <th>quote_imb</th>\n",
       "      <th>PRICE</th>\n",
       "    </tr>\n",
       "    <tr>\n",
       "      <th>Time</th>\n",
       "      <th></th>\n",
       "      <th></th>\n",
       "      <th></th>\n",
       "      <th></th>\n",
       "    </tr>\n",
       "  </thead>\n",
       "  <tbody>\n",
       "    <tr>\n",
       "      <th>2024-09-23 13:00:00</th>\n",
       "      <td>0.000000</td>\n",
       "      <td>0.028291</td>\n",
       "      <td>-391120.0</td>\n",
       "      <td>30.941667</td>\n",
       "    </tr>\n",
       "    <tr>\n",
       "      <th>2024-09-23 13:01:00</th>\n",
       "      <td>0.000000</td>\n",
       "      <td>0.028291</td>\n",
       "      <td>-68310.0</td>\n",
       "      <td>30.941667</td>\n",
       "    </tr>\n",
       "    <tr>\n",
       "      <th>2024-09-23 13:02:00</th>\n",
       "      <td>0.000000</td>\n",
       "      <td>0.028291</td>\n",
       "      <td>-623890.0</td>\n",
       "      <td>30.941667</td>\n",
       "    </tr>\n",
       "    <tr>\n",
       "      <th>2024-09-23 13:03:00</th>\n",
       "      <td>0.000000</td>\n",
       "      <td>0.028291</td>\n",
       "      <td>-623890.0</td>\n",
       "      <td>30.941667</td>\n",
       "    </tr>\n",
       "    <tr>\n",
       "      <th>2024-09-23 13:04:00</th>\n",
       "      <td>0.000000</td>\n",
       "      <td>0.028291</td>\n",
       "      <td>-124940.0</td>\n",
       "      <td>30.941667</td>\n",
       "    </tr>\n",
       "    <tr>\n",
       "      <th>...</th>\n",
       "      <td>...</td>\n",
       "      <td>...</td>\n",
       "      <td>...</td>\n",
       "      <td>...</td>\n",
       "    </tr>\n",
       "    <tr>\n",
       "      <th>2024-11-15 14:21:00</th>\n",
       "      <td>0.217215</td>\n",
       "      <td>0.542437</td>\n",
       "      <td>-38730.0</td>\n",
       "      <td>32.550000</td>\n",
       "    </tr>\n",
       "    <tr>\n",
       "      <th>2024-11-15 14:22:00</th>\n",
       "      <td>0.217215</td>\n",
       "      <td>0.542437</td>\n",
       "      <td>-38730.0</td>\n",
       "      <td>32.500000</td>\n",
       "    </tr>\n",
       "    <tr>\n",
       "      <th>2024-11-15 14:23:00</th>\n",
       "      <td>0.217215</td>\n",
       "      <td>0.542437</td>\n",
       "      <td>-38730.0</td>\n",
       "      <td>32.500000</td>\n",
       "    </tr>\n",
       "    <tr>\n",
       "      <th>2024-11-15 14:25:00</th>\n",
       "      <td>0.217215</td>\n",
       "      <td>0.542437</td>\n",
       "      <td>-38730.0</td>\n",
       "      <td>32.650000</td>\n",
       "    </tr>\n",
       "    <tr>\n",
       "      <th>2024-11-15 14:29:00</th>\n",
       "      <td>0.217215</td>\n",
       "      <td>0.542437</td>\n",
       "      <td>-38730.0</td>\n",
       "      <td>32.600000</td>\n",
       "    </tr>\n",
       "  </tbody>\n",
       "</table>\n",
       "<p>83212 rows × 4 columns</p>\n",
       "</div>"
      ],
      "text/plain": [
       "                     AvgCorrAssets       CDF  quote_imb      PRICE\n",
       "Time                                                              \n",
       "2024-09-23 13:00:00       0.000000  0.028291  -391120.0  30.941667\n",
       "2024-09-23 13:01:00       0.000000  0.028291   -68310.0  30.941667\n",
       "2024-09-23 13:02:00       0.000000  0.028291  -623890.0  30.941667\n",
       "2024-09-23 13:03:00       0.000000  0.028291  -623890.0  30.941667\n",
       "2024-09-23 13:04:00       0.000000  0.028291  -124940.0  30.941667\n",
       "...                            ...       ...        ...        ...\n",
       "2024-11-15 14:21:00       0.217215  0.542437   -38730.0  32.550000\n",
       "2024-11-15 14:22:00       0.217215  0.542437   -38730.0  32.500000\n",
       "2024-11-15 14:23:00       0.217215  0.542437   -38730.0  32.500000\n",
       "2024-11-15 14:25:00       0.217215  0.542437   -38730.0  32.650000\n",
       "2024-11-15 14:29:00       0.217215  0.542437   -38730.0  32.600000\n",
       "\n",
       "[83212 rows x 4 columns]"
      ]
     },
     "execution_count": 26,
     "metadata": {},
     "output_type": "execute_result"
    }
   ],
   "source": [
    "df"
   ]
  },
  {
   "cell_type": "code",
   "execution_count": 35,
   "metadata": {},
   "outputs": [],
   "source": [
    "df['returns']=df['PRICE'].pct_change()\n",
    "df['returns']=df['returns'].shift(-1)\n",
    "df=df.replace([np.inf, -np.inf], np.nan)\n",
    "df=df.ffill()\n",
    "df = df[:-1]\n",
    "df.index = pd.to_datetime(df.index)\n",
    "df=df.between_time('8:00','16:00')\n",
    "df=df[df.index.dayofweek < 5]\n",
    "# df=df[df.index<pd.to_datetime('2016-12-30')]\n",
    "df.to_csv('new_data.csv')\n",
    "\n",
    "savg=df[['AvgCorrAssets','quote_imb']].rolling(window=100).mean()\n",
    "sstd=df[['AvgCorrAssets','quote_imb']].rolling(window=100).std()"
   ]
  },
  {
   "cell_type": "code",
   "execution_count": 36,
   "metadata": {},
   "outputs": [],
   "source": [
    "zcorras=(df['AvgCorrAssets']-savg['AvgCorrAssets'])/sstd['AvgCorrAssets']\n",
    "zimb=(df['quote_imb']-savg['quote_imb'])/sstd['quote_imb']\n",
    "\n",
    "# zcorrex[zcorrex>3]=3\n",
    "# zcorrex[zcorrex<-3]=-3\n",
    "zcorras[zcorras>3]=3\n",
    "zcorras[zcorras<-3]=-3\n",
    "zimb[zimb>3]=3\n",
    "zimb[zimb<-3]=-3\n",
    "\n",
    "\n",
    "df_trading=pd.DataFrame({'price':df['PRICE'][100:],'cdf':df['CDF'][100:],'zcorras':zcorras[100:],'zimb':zimb[100:],'returns':df['returns'][100:], 'Time':df.index[100:]}\n",
    "                        ).set_index('Time')\n",
    "df_trading.to_csv('final.csv')"
   ]
  },
  {
   "cell_type": "code",
   "execution_count": null,
   "metadata": {},
   "outputs": [],
   "source": []
  }
 ],
 "metadata": {
  "kernelspec": {
   "display_name": "env",
   "language": "python",
   "name": "python3"
  },
  "language_info": {
   "codemirror_mode": {
    "name": "ipython",
    "version": 3
   },
   "file_extension": ".py",
   "mimetype": "text/x-python",
   "name": "python",
   "nbconvert_exporter": "python",
   "pygments_lexer": "ipython3",
   "version": "3.12.7"
  }
 },
 "nbformat": 4,
 "nbformat_minor": 2
}
