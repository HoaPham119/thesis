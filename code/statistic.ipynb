{
 "cells": [
  {
   "cell_type": "code",
   "execution_count": 1,
   "id": "2d967120",
   "metadata": {},
   "outputs": [],
   "source": [
    "import pandas as pd"
   ]
  },
  {
   "cell_type": "code",
   "execution_count": 2,
   "id": "0d9d904c",
   "metadata": {},
   "outputs": [],
   "source": [
    "path = \"/Users/hoapham/Documents/Learning/thesis/RL_data\""
   ]
  },
  {
   "cell_type": "code",
   "execution_count": 3,
   "id": "f88e6574",
   "metadata": {},
   "outputs": [],
   "source": [
    "symbol = \"VCB\"\n",
    "file_path = f\"{path}/{symbol}VPIN.csv\""
   ]
  },
  {
   "cell_type": "code",
   "execution_count": 4,
   "id": "f25c9d31",
   "metadata": {},
   "outputs": [],
   "source": [
    "df = pd.read_csv(file_path)"
   ]
  },
  {
   "cell_type": "code",
   "execution_count": 5,
   "id": "c230f790",
   "metadata": {},
   "outputs": [
    {
     "data": {
      "text/html": [
       "<div>\n",
       "<style scoped>\n",
       "    .dataframe tbody tr th:only-of-type {\n",
       "        vertical-align: middle;\n",
       "    }\n",
       "\n",
       "    .dataframe tbody tr th {\n",
       "        vertical-align: top;\n",
       "    }\n",
       "\n",
       "    .dataframe thead th {\n",
       "        text-align: right;\n",
       "    }\n",
       "</style>\n",
       "<table border=\"1\" class=\"dataframe\">\n",
       "  <thead>\n",
       "    <tr style=\"text-align: right;\">\n",
       "      <th></th>\n",
       "      <th>Time</th>\n",
       "      <th>Buy</th>\n",
       "      <th>Sell</th>\n",
       "      <th>Price</th>\n",
       "      <th>VPIN</th>\n",
       "      <th>CDF</th>\n",
       "      <th>Price_scaled</th>\n",
       "      <th>VPIN_scaled</th>\n",
       "    </tr>\n",
       "  </thead>\n",
       "  <tbody>\n",
       "    <tr>\n",
       "      <th>0</th>\n",
       "      <td>2024-09-23 13:16:00</td>\n",
       "      <td>265.162531</td>\n",
       "      <td>224.837469</td>\n",
       "      <td>91.362963</td>\n",
       "      <td>NaN</td>\n",
       "      <td>NaN</td>\n",
       "      <td>0.107666</td>\n",
       "      <td>NaN</td>\n",
       "    </tr>\n",
       "    <tr>\n",
       "      <th>1</th>\n",
       "      <td>2024-09-23 13:16:00</td>\n",
       "      <td>489.999915</td>\n",
       "      <td>0.000085</td>\n",
       "      <td>91.400000</td>\n",
       "      <td>NaN</td>\n",
       "      <td>NaN</td>\n",
       "      <td>0.116279</td>\n",
       "      <td>NaN</td>\n",
       "    </tr>\n",
       "    <tr>\n",
       "      <th>2</th>\n",
       "      <td>2024-09-23 13:17:00</td>\n",
       "      <td>489.981847</td>\n",
       "      <td>0.018153</td>\n",
       "      <td>91.438889</td>\n",
       "      <td>NaN</td>\n",
       "      <td>NaN</td>\n",
       "      <td>0.125323</td>\n",
       "      <td>NaN</td>\n",
       "    </tr>\n",
       "    <tr>\n",
       "      <th>3</th>\n",
       "      <td>2024-09-23 13:25:00</td>\n",
       "      <td>222.424189</td>\n",
       "      <td>267.575811</td>\n",
       "      <td>91.439683</td>\n",
       "      <td>NaN</td>\n",
       "      <td>NaN</td>\n",
       "      <td>0.125508</td>\n",
       "      <td>NaN</td>\n",
       "    </tr>\n",
       "    <tr>\n",
       "      <th>4</th>\n",
       "      <td>2024-09-23 13:28:00</td>\n",
       "      <td>182.908621</td>\n",
       "      <td>307.091379</td>\n",
       "      <td>91.465000</td>\n",
       "      <td>NaN</td>\n",
       "      <td>NaN</td>\n",
       "      <td>0.131395</td>\n",
       "      <td>NaN</td>\n",
       "    </tr>\n",
       "  </tbody>\n",
       "</table>\n",
       "</div>"
      ],
      "text/plain": [
       "                  Time         Buy        Sell      Price  VPIN  CDF  \\\n",
       "0  2024-09-23 13:16:00  265.162531  224.837469  91.362963   NaN  NaN   \n",
       "1  2024-09-23 13:16:00  489.999915    0.000085  91.400000   NaN  NaN   \n",
       "2  2024-09-23 13:17:00  489.981847    0.018153  91.438889   NaN  NaN   \n",
       "3  2024-09-23 13:25:00  222.424189  267.575811  91.439683   NaN  NaN   \n",
       "4  2024-09-23 13:28:00  182.908621  307.091379  91.465000   NaN  NaN   \n",
       "\n",
       "   Price_scaled  VPIN_scaled  \n",
       "0      0.107666          NaN  \n",
       "1      0.116279          NaN  \n",
       "2      0.125323          NaN  \n",
       "3      0.125508          NaN  \n",
       "4      0.131395          NaN  "
      ]
     },
     "execution_count": 5,
     "metadata": {},
     "output_type": "execute_result"
    }
   ],
   "source": [
    "df.head()"
   ]
  },
  {
   "cell_type": "code",
   "execution_count": 14,
   "id": "196fb416",
   "metadata": {},
   "outputs": [],
   "source": [
    "pd.DataFrame(df[[\"Price_scaled\", \"VPIN_scaled\"]].describe()).T.to_csv(\"/Users/hoapham/Documents/Learning/thesis/hinhanhluanvan/statistic_scaled.csv\")"
   ]
  },
  {
   "cell_type": "code",
   "execution_count": null,
   "id": "f8f4a0ff",
   "metadata": {},
   "outputs": [],
   "source": []
  }
 ],
 "metadata": {
  "kernelspec": {
   "display_name": "env (3.12.7)",
   "language": "python",
   "name": "python3"
  },
  "language_info": {
   "codemirror_mode": {
    "name": "ipython",
    "version": 3
   },
   "file_extension": ".py",
   "mimetype": "text/x-python",
   "name": "python",
   "nbconvert_exporter": "python",
   "pygments_lexer": "ipython3",
   "version": "3.12.7"
  }
 },
 "nbformat": 4,
 "nbformat_minor": 5
}
